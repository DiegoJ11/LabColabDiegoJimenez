{
  "nbformat": 4,
  "nbformat_minor": 0,
  "metadata": {
    "colab": {
      "name": "Laboratorio_8_6_2022.ipynb",
      "provenance": [],
      "authorship_tag": "ABX9TyNDSVCAQVsEFrlNEJDhMMoP",
      "include_colab_link": true
    },
    "kernelspec": {
      "name": "python3",
      "display_name": "Python 3"
    },
    "language_info": {
      "name": "python"
    }
  },
  "cells": [
    {
      "cell_type": "markdown",
      "metadata": {
        "id": "view-in-github",
        "colab_type": "text"
      },
      "source": [
        "<a href=\"https://colab.research.google.com/github/DiegoJ11/LabColabDiegoJimenez/blob/main/Laboratorio_8_6_2022.ipynb\" target=\"_parent\"><img src=\"https://colab.research.google.com/assets/colab-badge.svg\" alt=\"Open In Colab\"/></a>"
      ]
    },
    {
      "cell_type": "markdown",
      "source": [
        "**Laboratorio inicial de Colab**"
      ],
      "metadata": {
        "id": "ZKCNhT-TBizo"
      }
    },
    {
      "cell_type": "markdown",
      "source": [
        "**Luis Diego Jiménez Fallas**"
      ],
      "metadata": {
        "id": "_rcwR4TfCoOK"
      }
    },
    {
      "cell_type": "code",
      "source": [
        "import pandas as pd\n",
        "from google.colab import auth\n",
        "auth.authenticate_user()\n",
        "import gspread\n",
        "from google.auth import default \n",
        "creds, _ = default()\n",
        "gc=gspread.authorize(creds)\n",
        "sh=gc.create('Luis_Diego_Jimenez_Fallas')"
      ],
      "metadata": {
        "id": "fcTReEONCOe7"
      },
      "execution_count": null,
      "outputs": []
    },
    {
      "cell_type": "code",
      "source": [
        "worksheet = gc.open('Luis_Diego_Jimenez_Fallas').sheet1\n",
        "cell_list = worksheet.range('A1:G14')\n",
        "import random\n",
        "for cell in cell_list:\n",
        "  cell.value = random.randint(1,10)\n",
        "worksheet.update_cells(cell_list)"
      ],
      "metadata": {
        "colab": {
          "base_uri": "https://localhost:8080/"
        },
        "id": "2TjYG0lAEh7x",
        "outputId": "d88cc24a-c196-404e-916c-6f5a461a6f5e"
      },
      "execution_count": null,
      "outputs": [
        {
          "output_type": "execute_result",
          "data": {
            "text/plain": [
              "{'spreadsheetId': '1UnPVKH-mrzp-KTpo0WEkTEU8BMg8hAgDNjE3Z95pY8I',\n",
              " 'updatedCells': 98,\n",
              " 'updatedColumns': 7,\n",
              " 'updatedRange': \"'Hoja 1'!A1:G14\",\n",
              " 'updatedRows': 14}"
            ]
          },
          "metadata": {},
          "execution_count": 3
        }
      ]
    },
    {
      "cell_type": "code",
      "source": [
        "worksheet = gc.open('Luis_Diego_Jimenez_Fallas').sheet1\n",
        "rows=worksheet.get_all_values()\n",
        "print(rows)"
      ],
      "metadata": {
        "colab": {
          "base_uri": "https://localhost:8080/"
        },
        "id": "17ejqYw-H5nr",
        "outputId": "cf5515ee-6b8b-4175-af37-a34bbf0bea68"
      },
      "execution_count": null,
      "outputs": [
        {
          "output_type": "stream",
          "name": "stdout",
          "text": [
            "[['4', '6', '10', '5', '6', '7', '4'], ['3', '7', '9', '4', '9', '8', '9'], ['5', '4', '10', '7', '1', '9', '8'], ['4', '6', '7', '8', '7', '7', '6'], ['9', '4', '10', '10', '8', '4', '2'], ['1', '6', '7', '7', '5', '3', '4'], ['5', '5', '10', '9', '7', '6', '1'], ['4', '1', '1', '9', '4', '4', '4'], ['8', '3', '4', '1', '6', '2', '8'], ['6', '10', '7', '9', '10', '2', '4'], ['4', '6', '2', '6', '6', '1', '10'], ['2', '7', '5', '5', '10', '8', '8'], ['8', '9', '3', '3', '5', '2', '9'], ['5', '3', '3', '2', '6', '7', '10']]\n"
          ]
        }
      ]
    }
  ]
}